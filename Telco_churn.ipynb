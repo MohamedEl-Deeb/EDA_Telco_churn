{
 "cells": [
  {
   "cell_type": "markdown",
   "metadata": {},
   "source": [
    "# <font color='darkred'>Telco Churn Predication</font>"
   ]
  },
  {
   "cell_type": "markdown",
   "metadata": {},
   "source": [
    "## Appendix\n",
    "- Click on the links:\n",
    ">1. <a href=#imports>Imports</a>\n",
    ">2. <a href=#load>Load Data</a>\n",
    ">3. <a href=#Formating>Data Formating</a>\n",
    ">4. <a href=#valid>Validate Assumption(Optional If exist)</a>\n",
    ">5. <a href=#EDA1>Exploratory Data Analysis (Uni-variable)</a>\n",
    ">6. <a href=#EDA2>Exploratory Data Analysis (muli-variable-relationships)</a>\n",
    ">7. <a href=#ques>Questions & Insights</a>\n",
    ">8. <a href=#con>Conculsion</a>"
   ]
  },
  {
   "cell_type": "markdown",
   "metadata": {},
   "source": [
    "### Company Background:\n",
    "\n",
    "Saudi Telecom Company (STC) is a Saudi Arabia-based digital company that offers telecommunications services, landline, mobile, Internet services, enterprise digital solutions, entertainment, fintech, and computer networks\n",
    "\n",
    "### Motivation:\n",
    "STC has a problem with retaining its customers due to new competitors emerging in the market (Virgin, Mobily, etc..) so we will try to offer some analysis to diagnosis the behavior of the churned customers so that we can first address these problems as organizational challenges to improve our services as well as identify common behaviors in churned customers\n",
    "\n"
   ]
  },
  {
   "cell_type": "markdown",
   "metadata": {},
   "source": [
    "### Data Description\n",
    "\n",
    ">I will be using the Telco Customer Churn “Focused customer retention programs” Dataset from Kaggle that can be found [here](https://www.kaggle.com/blastchar/telco-customer-churn).\n",
    "This was uploaded for examining customer retention and predicting churn and will be well suited to this study\n",
    "\n",
    "The data contains more than **7043** row each row represents a customer and **22** features included in our analysis.\n",
    "#### Features\n",
    ">- customerID: A unique identifier for each cutomer\n",
    ">- gender: Whether the customer is a male or a female\n",
    ">- SeniorCitizen: Whether the customer is a senior citizen or not (1, 0)\n",
    ">- Partner: Whether the customer has a partner or not (Yes, No)\n",
    ">- Dependents: Whether the customer has dependents or not (Yes, No)\n",
    ">- tenureNumber of months the customer has stayed with the company\n",
    ">- PhoneService: Whether the customer has a phone service or not (Yes, No)\n",
    ">- MultipleLines: Whether the customer has multiple lines or not (Yes, No, No phone service)\n",
    ">- InternetServiceCustomer’s internet service provider (DSL, Fiber optic, No)\n",
    ">- OnlineSecurity: Whether the customer has online security or not (Yes, No, No internet service)\n",
    ">- OnlineBackup: Whether the customer has online backup or not (Yes, No, No internet service)\n",
    ">- DeviceProtection: Whether the customer has device protection or not (Yes, No, No internet service)\n",
    ">- TechSupport: Whether the customer has tech support or not (Yes, No, No internet service)\n",
    ">- StreamingTV: Whether the customer has streaming TV or not (Yes, No, No internet service)\n",
    ">- StreamingMovies: Whether the customer has streaming movies or not (Yes, No, No internet service)\n",
    ">- ContractThe contract term of the customer (Month-to-month, One year, Two year)\n",
    ">- PaperlessBilling: Whether the customer has paperless billing or not (Yes, No)\n",
    ">- PaymentMethod: The customer’s payment method (Electronic check, Mailed check, Bank transfer (automatic), Credit card (automatic))\n",
    ">- MonthlyCharges: The amount charged to the customer monthly • TotalCharges`: The total amount charged to the customer\n",
    ">- Churn: Whether the customer churned or not (Yes or No)\n",
    "An imbalance can be observed in the target label as the number of lost customers are 1890 rows while the number of non-churn customers are 5174 rows"
   ]
  },
  {
   "cell_type": "markdown",
   "metadata": {},
   "source": [
    "# <a name='LoadData' >Load Data</a>"
   ]
  }
 ],
 "metadata": {
  "kernelspec": {
   "display_name": "Python 3",
   "language": "python",
   "name": "python3"
  },
  "language_info": {
   "codemirror_mode": {
    "name": "ipython",
    "version": 3
   },
   "file_extension": ".py",
   "mimetype": "text/x-python",
   "name": "python",
   "nbconvert_exporter": "python",
   "pygments_lexer": "ipython3",
   "version": "3.7.4"
  }
 },
 "nbformat": 4,
 "nbformat_minor": 4
}
